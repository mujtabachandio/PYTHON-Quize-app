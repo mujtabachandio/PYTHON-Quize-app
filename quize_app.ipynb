{
  "nbformat": 4,
  "nbformat_minor": 0,
  "metadata": {
    "colab": {
      "provenance": []
    },
    "kernelspec": {
      "name": "python3",
      "display_name": "Python 3"
    },
    "language_info": {
      "name": "python"
    }
  },
  "cells": [
    {
      "cell_type": "markdown",
      "source": [
        "**Quize-app**"
      ],
      "metadata": {
        "id": "6LSpOcNad0Zv"
      }
    },
    {
      "cell_type": "code",
      "execution_count": null,
      "metadata": {
        "id": "bPMv5IZcdyGT"
      },
      "outputs": [],
      "source": [
        "import random\n",
        "\n",
        "#question and answers\n",
        "questions = [\n",
        "    {\n",
        "        \"question\": \"What is the capital of France?\",\n",
        "        \"options\": [\"A. London\", \"B. Berlin\", \"C. Paris\", \"D. Madrid\"],\n",
        "        \"answer\": \"C\"\n",
        "    },\n",
        "    {\n",
        "        \"question\": \"Which planet is known as the Red Planet?\",\n",
        "        \"options\": [\"A. Earth\", \"B. Mars\", \"C. Jupiter\", \"D. Venus\"],\n",
        "        \"answer\": \"B\"\n",
        "    },\n",
        "    {\n",
        "        \"question\": \"What is the largest ocean on Earth?\",\n",
        "        \"options\": [\"A. Atlantic Ocean\", \"B. Indian Ocean\", \"C. Arctic Ocean\", \"D. Pacific Ocean\"],\n",
        "        \"answer\": \"D\"\n",
        "    },\n",
        "    {\n",
        "        \"question\": \"Who wrote 'Romeo and Juliet'?\",\n",
        "        \"options\": [\"A. William Shakespeare\", \"B. Charles Dickens\", \"C. Mark Twain\", \"D. Jane Austen\"],\n",
        "        \"answer\": \"A\"\n",
        "    },\n",
        "    {\n",
        "        \"question\": \"What is the smallest prime number?\",\n",
        "        \"options\": [\"A. 0\", \"B. 1\", \"C. 2\", \"D. 3\"],\n",
        "        \"answer\": \"C\"\n",
        "    }\n",
        "]\n",
        "\n",
        "def ask_question(question):\n",
        "    print(\"\\n\" + question[\"question\"])\n",
        "    for option in question[\"options\"]:\n",
        "        print(option)\n",
        "    answer = input(\"Your answer (A, B, C, or D): \").strip().upper()\n",
        "    return answer == question[\"answer\"]\n",
        "\n",
        "def run_quiz():\n",
        "    random.shuffle(questions)\n",
        "    score = 0\n",
        "    for question in questions:\n",
        "        if ask_question(question):\n",
        "            print(\"Correct!\")\n",
        "            score += 1\n",
        "        else:\n",
        "            print(f\"Wrong! The correct answer is {question['answer']}\")\n",
        "    print(f\"\\nYour final score is: {score}/{len(questions)}\")\n",
        "\n",
        "if __name__ == \"__main__\":\n",
        "    print(\"Welcome to the quiz!\")\n",
        "    run_quiz()\n",
        "\n"
      ]
    }
  ]
}